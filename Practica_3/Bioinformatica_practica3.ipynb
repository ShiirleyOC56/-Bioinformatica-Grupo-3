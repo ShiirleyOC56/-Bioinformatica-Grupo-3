{
  "nbformat": 4,
  "nbformat_minor": 0,
  "metadata": {
    "colab": {
      "name": "Bioinformatica practica3",
      "provenance": [],
      "collapsed_sections": []
    },
    "kernelspec": {
      "name": "python3",
      "display_name": "Python 3"
    },
    "language_info": {
      "name": "python"
    },
    "accelerator": "GPU"
  },
  "cells": [
    {
      "cell_type": "code",
      "metadata": {
        "colab": {
          "base_uri": "https://localhost:8080/"
        },
        "id": "xfYpTnFlRKkT",
        "outputId": "3b819516-4af9-499d-d41c-ae9118d25998"
      },
      "source": [
        "pip install biopython\n"
      ],
      "execution_count": 3,
      "outputs": [
        {
          "output_type": "stream",
          "text": [
            "Requirement already satisfied: biopython in /usr/local/lib/python3.7/dist-packages (1.78)\n",
            "Requirement already satisfied: numpy in /usr/local/lib/python3.7/dist-packages (from biopython) (1.19.5)\n"
          ],
          "name": "stdout"
        }
      ]
    },
    {
      "cell_type": "code",
      "metadata": {
        "colab": {
          "base_uri": "https://localhost:8080/",
          "height": 299
        },
        "id": "6AQ8BWUXQwia",
        "outputId": "d67b325b-f0ee-4c4b-c55e-43b97b6e6760"
      },
      "source": [
        "# dot_matrix.py\n",
        "\n",
        "from Bio import SeqIO\n",
        "import matplotlib.pyplot as plt\n",
        "sequences = SeqIO.parse(\"P21333.fasta\", \"fasta\")\n",
        "for record in sequences:\n",
        "    data1 = str(record.seq.upper()) # the fasta file just have one sequence\n",
        "sequences = SeqIO.parse(\"Q8BTM8.fasta\", \"fasta\")\n",
        "for record in sequences:\n",
        "    data2 = str(record.seq.upper()) # the fasta file just have one sequence\n",
        "print(len(data1))\n",
        "print(len(data2))\n",
        "\n",
        "'''\n",
        "def agrupar_window_size(ws,data):\n",
        "  data_re = []\n",
        "  window_size = 12\n",
        "  data_array1=[]\n",
        "  for i in range(len(data1)):\n",
        "    i=window_size\n",
        "    sublista=[]\n",
        "    if(i<len(data1)):\n",
        "      for j in range(window_size-1):\n",
        "        sublista.append(data1[i+j])\n",
        "    data_array1.append(sublista)\n",
        "    \n",
        "  print(data_array1)\n",
        "  data_array2=[]\n",
        "  for i in range(len(data2)):\n",
        "    i=i+i+i\n",
        "    sublista=[]\n",
        "\n",
        "    sublista.append(i)\n",
        "    sublista.append(i+1)\n",
        "    sublista.append(i+2)\n",
        "    data_array2.append(sublista)\n",
        "\n",
        "\n",
        "  print(data_array2)\n",
        "'''\n",
        "#def comparar_sublistas(sublist1,sublist2):\n",
        "\n",
        "\n",
        "\n",
        "for i in range(2600,len(data1)):\n",
        "    for j in range(2600,len(data2)):\n",
        "        if(data1[i]==data2[j]):\n",
        "            plt.plot(i,j,'.')\n",
        "plt.show()"
      ],
      "execution_count": 13,
      "outputs": [
        {
          "output_type": "stream",
          "text": [
            "2647\n",
            "2647\n"
          ],
          "name": "stdout"
        },
        {
          "output_type": "display_data",
          "data": {
            "image/png": "[encoded data removed]",
            "text/plain": [
              "<Figure size 432x288 with 1 Axes>"
            ]
          },
          "metadata": {
            "tags": [],
            "needs_background": "light"
          }
        }
      ]
    },
    {
      "cell_type": "code",
      "metadata": {
        "colab": {
          "base_uri": "https://localhost:8080/",
          "height": 299
        },
        "id": "XfGUgUP7BwCf",
        "outputId": "98c144e1-43e4-42a9-d32f-410f420229b5"
      },
      "source": [
        "# dot_matrix.py\n",
        "\n",
        "from Bio import SeqIO\n",
        "import matplotlib.pyplot as plt\n",
        "sequences = SeqIO.parse(\"G3QNL9.fasta\", \"fasta\")#Gorilla gorilla gorilla (Western lowland gorilla)\n",
        "for record in sequences:\n",
        "    data1 = str(record.seq.upper()) # the fasta file just have one sequence\n",
        "sequences = SeqIO.parse(\"M3YD12.fasta\", \"fasta\") #Mustela putorius furo (European domestic ferret) (Mustela furo)\n",
        "for record in sequences:\n",
        "    data2 = str(record.seq.upper()) # the fasta file just have one sequence\n",
        "print(len(data1))\n",
        "print(len(data2))\n",
        "\n",
        "'''\n",
        "def agrupar_window_size(ws,data):\n",
        "  data_re = []\n",
        "  window_size = 12\n",
        "  data_array1=[]\n",
        "  for i in range(len(data1)):\n",
        "    i=window_size\n",
        "    sublista=[]\n",
        "    if(i<len(data1)):\n",
        "      for j in range(window_size-1):\n",
        "        sublista.append(data1[i+j])\n",
        "    data_array1.append(sublista)\n",
        "    \n",
        "  print(data_array1)\n",
        "  data_array2=[]\n",
        "  for i in range(len(data2)):\n",
        "    i=i+i+i\n",
        "    sublista=[]\n",
        "\n",
        "    sublista.append(i)\n",
        "    sublista.append(i+1)\n",
        "    sublista.append(i+2)\n",
        "    data_array2.append(sublista)\n",
        "\n",
        "\n",
        "  print(data_array2)\n",
        "'''\n",
        "#def comparar_sublistas(sublist1,sublist2):\n",
        "\n",
        "\n",
        "\n",
        "for i in range(2600,len(data1)):\n",
        "    for j in range(2600,len(data2)):\n",
        "        if(data1[i]==data2[j]):\n",
        "            plt.plot(i,j,'.')\n",
        "plt.show()"
      ],
      "execution_count": 17,
      "outputs": [
        {
          "output_type": "stream",
          "text": [
            "2647\n",
            "2647\n"
          ],
          "name": "stdout"
        },
        {
          "output_type": "display_data",
          "data": {
            "image/png": "[encoded data removed]",
            "text/plain": [
              "<Figure size 432x288 with 1 Axes>"
            ]
          },
          "metadata": {
            "tags": [],
            "needs_background": "light"
          }
        }
      ]
    },
    {
      "cell_type": "markdown",
      "metadata": {
        "id": "2-nfNwO3BsWK"
      },
      "source": [
        ""
      ]
    }
  ]
}